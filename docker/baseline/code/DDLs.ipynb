{
 "cells": [
  {
   "cell_type": "markdown",
   "id": "6bfe8deb-a38a-4a76-b5ee-d38fd1c533dc",
   "metadata": {},
   "source": [
    "### This is the main.py file for the pyspark based code for DCONAP starts"
   ]
  },
  {
   "cell_type": "code",
   "execution_count": 1,
   "id": "f937aa22-6b11-4950-9b61-17f3aad46a51",
   "metadata": {},
   "outputs": [],
   "source": [
    "# Importing PostgreSQL connection\n",
    "import connections"
   ]
  },
  {
   "cell_type": "code",
   "execution_count": 2,
   "id": "e6026b3b-4ef0-4eb6-8252-276ae34b30ba",
   "metadata": {},
   "outputs": [
    {
     "name": "stderr",
     "output_type": "stream",
     "text": [
      "2025-04-28 18:13:15,019 [INFO] Attempting to connect to PostgreSQL at postgres:5432, database: DCONAP_DB\n",
      "2025-04-28 18:13:15,028 [INFO] Connection to PostgreSQL established successfully.\n"
     ]
    }
   ],
   "source": [
    "pg_cursor = connections.postgres_connection(pg_host_nm='postgres',pg_port_nmbr=5432, pg_db_nm='DCONAP_DB', pg_usr_nm='dconap_user', pg_pswd='Iamsuperman339610')"
   ]
  },
  {
   "cell_type": "code",
   "execution_count": 5,
   "id": "232690da-2e59-419a-adac-d0228e3d6a42",
   "metadata": {},
   "outputs": [
    {
     "name": "stdout",
     "output_type": "stream",
     "text": [
      "Schema 'LOCATION' created successfully.\n"
     ]
    }
   ],
   "source": [
    "schema_nm: str = 'LOCATION'\n",
    "# using the above string variable it will create a Schema\n",
    "pg_cursor.execute(f\"CREATE SCHEMA {schema_nm};\")\n",
    "print(f\"Schema '{schema_nm}' created successfully.\")"
   ]
  },
  {
   "cell_type": "code",
   "execution_count": 3,
   "id": "214d0981-5b68-4179-89bb-a5dc776fa4d7",
   "metadata": {},
   "outputs": [
    {
     "name": "stdout",
     "output_type": "stream",
     "text": [
      "LOCATION.TIMEZONE created successfully.\n"
     ]
    }
   ],
   "source": [
    "tbl_nm = 'TIMEZONE'\n",
    "schema_nm: str = 'LOCATION'\n",
    "pg_cursor.execute(f'''CREATE TABLE IF NOT EXISTS {schema_nm}.{tbl_nm} (\n",
    "                ID INT PRIMARY KEY,\n",
    "                ZONE_NM VARCHAR(255) NOT NULL,\n",
    "                GMT_OFF_SET INT NOT NULL,\n",
    "                GMT_OFF_SET_NM VARCHAR(50) NOT NULL,\n",
    "                ABBREVIATION VARCHAR(50),\n",
    "                TZ_NM VARCHAR(255)\n",
    "            );''')\n",
    "print(f\"{schema_nm}.{tbl_nm} created successfully.\")"
   ]
  },
  {
   "cell_type": "code",
   "execution_count": 5,
   "id": "ee353173-1c64-4b18-acb5-fa2b4aad4f98",
   "metadata": {},
   "outputs": [
    {
     "name": "stdout",
     "output_type": "stream",
     "text": [
      "LOCATION.COUNTRY created successfully.\n"
     ]
    }
   ],
   "source": [
    "tbl_nm = 'COUNTRY'\n",
    "schema_nm: str = 'LOCATION'\n",
    "pg_cursor.execute(f'''CREATE TABLE IF NOT EXISTS {schema_nm}.{tbl_nm} (\n",
    "                ID INT PRIMARY KEY,\n",
    "                NAME VARCHAR(255) NOT NULL,\n",
    "                ISO3 VARCHAR(3) NOT NULL,\n",
    "                ISO2 VARCHAR(2) NOT NULL,\n",
    "                NUMERIC_CD INT NOT NULL,\n",
    "                PHONE_CD VARCHAR(10),\n",
    "                CAPITAL VARCHAR(255),\n",
    "                CURRENCY VARCHAR(3),\n",
    "                CURRENCY_NM VARCHAR(255),\n",
    "                CURRENCY_SYBL VARCHAR(10),\n",
    "                TID VARCHAR(10),\n",
    "                NATIVE VARCHAR(255),\n",
    "                REGION VARCHAR(255),\n",
    "                REGION_ID INT,\n",
    "                SUBREGION VARCHAR(255),\n",
    "                SUBREGION_ID INT,\n",
    "                NATIONALITY VARCHAR(255),\n",
    "                TIMEZONE_CD INT,\n",
    "                LATITUDE DECIMAL,\n",
    "                LONGITUDE DECIMAL,\n",
    "                EMOJI VARCHAR(10),\n",
    "                EMOJIU VARCHAR(20),\n",
    "                FOREIGN KEY (TIMEZONE_CD) REFERENCES LOCATION.TIMEZONE(ID)\n",
    "            );''')\n",
    "print(f\"{schema_nm}.{tbl_nm} created successfully.\")"
   ]
  },
  {
   "cell_type": "code",
   "execution_count": 6,
   "id": "199d65a2-ea33-4044-8d2a-130654a8ccf8",
   "metadata": {},
   "outputs": [
    {
     "name": "stdout",
     "output_type": "stream",
     "text": [
      "LOCATION.STATE created successfully.\n"
     ]
    }
   ],
   "source": [
    "schema_nm: str = 'LOCATION'\n",
    "tbl_nm = 'STATE'\n",
    "\n",
    "pg_cursor.execute(f'''CREATE TABLE IF NOT EXISTS {schema_nm}.{tbl_nm} (\n",
    "                ID INT PRIMARY KEY,\n",
    "                NAME VARCHAR(255) NOT NULL,\n",
    "                COUNTRY_ID INT NOT NULL,\n",
    "                COUNTRY_CD VARCHAR(50) NOT NULL,\n",
    "                COUNTRY_NM VARCHAR(255),\n",
    "                STATE_CD VARCHAR(50),\n",
    "                TYPE VARCHAR(50),\n",
    "                LATITUDE DECIMAL,\n",
    "                LONGTITUDE DECIMAL,\n",
    "                FOREIGN KEY (COUNTRY_ID) REFERENCES LOCATION.COUNTRY(ID)\n",
    "            );''')\n",
    "print(f\"{schema_nm}.{tbl_nm} created successfully.\")"
   ]
  },
  {
   "cell_type": "code",
   "execution_count": 7,
   "id": "7887d436-a61b-4219-b2a1-1df908795d17",
   "metadata": {},
   "outputs": [
    {
     "name": "stdout",
     "output_type": "stream",
     "text": [
      "LOCATION.CITY created successfully.\n"
     ]
    }
   ],
   "source": [
    "schema_nm: str = 'LOCATION'\n",
    "tbl_nm = 'CITY'\n",
    "\n",
    "pg_cursor.execute(f'''CREATE TABLE IF NOT EXISTS {schema_nm}.{tbl_nm} (\n",
    "                ID INT PRIMARY KEY,\n",
    "                NAME VARCHAR(255) NOT NULL,\n",
    "                STATE_ID INT NOT NULL,\n",
    "                STATE_CD VARCHAR(50) NOT NULL,\n",
    "                STATE_NM VARCHAR(255),\n",
    "                LATITUDE DECIMAL,\n",
    "                LONGTITUDE DECIMAL,\n",
    "                FOREIGN KEY (STATE_ID) REFERENCES LOCATION.STATE(ID)\n",
    "            );''')\n",
    "print(f\"{schema_nm}.{tbl_nm} created successfully.\")"
   ]
  },
  {
   "cell_type": "code",
   "execution_count": null,
   "id": "26b20b13-ce86-43ad-8392-e0ba5357d821",
   "metadata": {},
   "outputs": [],
   "source": []
  }
 ],
 "metadata": {
  "kernelspec": {
   "display_name": "Python 3 (ipykernel)",
   "language": "python",
   "name": "python3"
  },
  "language_info": {
   "codemirror_mode": {
    "name": "ipython",
    "version": 3
   },
   "file_extension": ".py",
   "mimetype": "text/x-python",
   "name": "python",
   "nbconvert_exporter": "python",
   "pygments_lexer": "ipython3",
   "version": "3.9.22"
  }
 },
 "nbformat": 4,
 "nbformat_minor": 5
}
